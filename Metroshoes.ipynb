{
 "cells": [
  {
   "cell_type": "markdown",
   "metadata": {},
   "source": [
    "# Imports and necessary assignments"
   ]
  },
  {
   "cell_type": "code",
   "execution_count": null,
   "metadata": {},
   "outputs": [],
   "source": [
    "from selenium import webdriver\n",
    "from msedge.selenium_tools import EdgeOptions\n",
    "from bs4 import BeautifulSoup as bs\n",
    "import requests, json, sqlite3, time"
   ]
  },
  {
   "cell_type": "code",
   "execution_count": null,
   "metadata": {},
   "outputs": [],
   "source": [
    "headers = {\"accept-encoding\": \"gzip, deflate, br\",\n",
    "           \"accept-language\": \"en-US,en;q=0.9\",\n",
    "           \"user-agent\": \"Mozilla/5.0 (Windows NT 10.0; Win64; x64) AppleWebKit/537.36 (KHTML, like Gecko) Chrome/90.0.4430.93 Safari/537.36 Edg/90.0.818.56\"}"
   ]
  },
  {
   "cell_type": "markdown",
   "metadata": {},
   "source": [
    "# Find product links and save links to file"
   ]
  },
  {
   "cell_type": "code",
   "execution_count": null,
   "metadata": {},
   "outputs": [],
   "source": [
    "men_links = []\n",
    "all_men_items = 799\n",
    "for page in range(1, all_men_items//18+2):\n",
    "    url = f\"https://www.metroshoes.net/mana_layerednavigationajax/products/?_id=3&_route=catalog_category_view&p={page}\"\n",
    "    page_html = bs(requests.get(url, headers=headers).text, 'html.parser')\n",
    "    for a_tag in page_html.findAll('a', {'class': 'product-item-link'}):\n",
    "        men_links.append(a_tag['href'])\n",
    "    print(page, len(men_links))\n",
    "    \n",
    "men_links = list(set(men_links))\n",
    "print(len(men_links))"
   ]
  },
  {
   "cell_type": "code",
   "execution_count": null,
   "metadata": {},
   "outputs": [],
   "source": [
    "with open('metroshoes_prod_links.csv', 'w') as f:\n",
    "    for link in men_links:\n",
    "            f.write(link+\"\\n\")"
   ]
  },
  {
   "cell_type": "code",
   "execution_count": null,
   "metadata": {},
   "outputs": [],
   "source": [
    "women_links = []\n",
    "all_women_items = 1223\n",
    "for page in range(1, all_women_items//18+2):\n",
    "    url = f\"https://www.metroshoes.net/mana_layerednavigationajax/products/?_id=4&_route=catalog_category_view&p={page}\"\n",
    "    page_html = bs(requests.get(url, headers=headers).text, 'html.parser')\n",
    "    for a_tag in page_html.findAll('a', {'class': 'product-item-link'}):\n",
    "        women_links.append(a_tag['href'])\n",
    "    print(page, len(women_links))\n",
    "\n",
    "women_links = list(set(women_links))\n",
    "print(len(women_links))"
   ]
  },
  {
   "cell_type": "code",
   "execution_count": null,
   "metadata": {},
   "outputs": [],
   "source": [
    "with open('metroshoes_prod_links.csv', 'a') as f:\n",
    "    for link in women_links:\n",
    "            f.write(link+\"\\n\")"
   ]
  },
  {
   "cell_type": "code",
   "execution_count": null,
   "metadata": {},
   "outputs": [],
   "source": [
    "accessories_links = []\n",
    "all_accessories_items = 319\n",
    "for page in range(1, all_accessories_items//18+2):\n",
    "    url = f\"https://www.metroshoes.net/mana_layerednavigationajax/products/?_id=7&_route=catalog_category_view&p={page}\"\n",
    "    page_html = bs(requests.get(url, headers=headers).text, 'html.parser')\n",
    "    for a_tag in page_html.findAll('a', {'class': 'product-item-link'}):\n",
    "        accessories_links.append(a_tag['href'])\n",
    "    print(page, len(accessories_links))\n",
    "\n",
    "accessories_links = list(set(accessories_links))\n",
    "print(len(accessories_links))"
   ]
  },
  {
   "cell_type": "code",
   "execution_count": null,
   "metadata": {},
   "outputs": [],
   "source": [
    "with open('metroshoes_prod_links.csv', 'a') as f:\n",
    "    for link in accessories_links:\n",
    "            f.write(link+\"\\n\")"
   ]
  },
  {
   "cell_type": "code",
   "execution_count": null,
   "metadata": {},
   "outputs": [],
   "source": [
    "bags_links = []\n",
    "all_bags_items = 482\n",
    "for page in range(1, all_bags_items//18+2):\n",
    "    url = f\"https://www.metroshoes.net/mana_layerednavigationajax/products/?_id=212&_route=catalog_category_view&p={page}\"\n",
    "    page_html = bs(requests.get(url, headers=headers).text, 'html.parser')\n",
    "    for a_tag in page_html.findAll('a', {'class': 'product-item-link'}):\n",
    "        bags_links.append(a_tag['href'])\n",
    "    print(page, len(bags_links))\n",
    "\n",
    "bags_links = list(set(bags_links))\n",
    "print(len(bags_links))"
   ]
  },
  {
   "cell_type": "code",
   "execution_count": null,
   "metadata": {},
   "outputs": [],
   "source": [
    "with open('metroshoes_prod_links.csv', 'a') as f:\n",
    "    for link in bags_links:\n",
    "            f.write(link+\"\\n\")"
   ]
  },
  {
   "cell_type": "markdown",
   "metadata": {},
   "source": [
    "### Extract saved links from file"
   ]
  },
  {
   "cell_type": "code",
   "execution_count": null,
   "metadata": {},
   "outputs": [],
   "source": [
    "all_links = []\n",
    "\n",
    "with open(\"metroshoes_prod_links.csv\",\"r\") as f:\n",
    "    for line in f:\n",
    "        all_links.append(line.strip())\n",
    "\n",
    "all_links = list(set(all_links))\n",
    "len(all_links)"
   ]
  },
  {
   "cell_type": "markdown",
   "metadata": {},
   "source": [
    "# Functions\n",
    "## Function to get each product details"
   ]
  },
  {
   "cell_type": "code",
   "execution_count": null,
   "metadata": {},
   "outputs": [],
   "source": [
    "def get_details(main_link):\n",
    "    try:\n",
    "        site_content = requests.get(main_link, headers=headers).text\n",
    "        site_html    = bs(site_content, 'html.parser')\n",
    "        site_json = json.loads(site_html.findAll('script')[46].contents[0])\n",
    "        site_json2 = json.loads(site_html.findAll('script')[40].contents[0][97:-95])['jsonConfig']\n",
    "        \n",
    "        #breadcrumb = site_html.find('div', {'class' :'breadcrumbs'}).text.lower()\n",
    "        sizes = [(i['label']) for i in site_json2['attributes']['144']['options']]\n",
    "        imgs = [img['href'] for img in site_html.findAll('div', {'class': 'MagicToolboxContainer'})[0].findAll('a')]\n",
    "        \n",
    "        if \"women\" in main_link: gender = \"Women\"\n",
    "        elif \"men\" in main_link: gender = \"Men\"\n",
    "        else: gender = \"Unisex\"\n",
    "        if \"accessories\" in main_link: category = \"Accessories\"\n",
    "        elif \"bags\" in main_link: category = \"Bags\"\n",
    "        else: category = \"Shoes\"\n",
    "\n",
    "        product_details = {}\n",
    "        product_details['link']          = main_link\n",
    "        product_details['name']          = site_json['name']\n",
    "        product_details['brand']         = site_json['brand']\n",
    "        product_details['category']      = category\n",
    "        product_details['avail_size']    =  \", \".join(sizes)\n",
    "        product_details['price']         = site_json2['prices']['finalPrice']['amount']\n",
    "        product_details['mrp']           = site_json2['prices']['oldPrice']['amount']\n",
    "        product_details['gender']        = gender\n",
    "        product_details['desc']          = site_json['description']\n",
    "        product_details['primary_img']   = imgs[0]\n",
    "        product_details['secondary_img'] = \", \".join(imgs[1:])\n",
    "        \n",
    "        return product_details\n",
    "    except Exception as e:\n",
    "        print(e, end=\"---\")\n",
    "        return None"
   ]
  },
  {
   "cell_type": "markdown",
   "metadata": {},
   "source": [
    "## Function to add each product details to db"
   ]
  },
  {
   "cell_type": "code",
   "execution_count": null,
   "metadata": {},
   "outputs": [],
   "source": [
    "def add_to_db(product_details):\n",
    "    try:\n",
    "        cursor.execute(\"INSERT INTO product_details(Website, Product_Link, Product_Name, Product_Brand, Product_Category, Size_Avail, Price, MRP, Gender, Description, Primary_Image_Links, Secondary_Image_Links) VALUES(?,?,?,?, ?,?,?,?, ?,?,?,?)\",\n",
    "                       (\"https://www.metroshoes.net/\",\n",
    "                        product_details['link'],\n",
    "                        product_details['name'],\n",
    "                        product_details['brand'],\n",
    "                        product_details['category'],\n",
    "                        product_details['avail_size'],\n",
    "                        product_details['price'],\n",
    "                        product_details['mrp'],\n",
    "                        product_details['gender'],\n",
    "                        product_details['desc'],\n",
    "                        product_details['primary_img'],\n",
    "                        product_details['secondary_img'])\n",
    "                      )\n",
    "        conn.commit()\n",
    "        print(\"Added to db\")\n",
    "    except Exception as e:\n",
    "        print(e)\n",
    "        pass"
   ]
  },
  {
   "cell_type": "markdown",
   "metadata": {},
   "source": [
    "# Create db"
   ]
  },
  {
   "cell_type": "code",
   "execution_count": null,
   "metadata": {},
   "outputs": [],
   "source": [
    "conn = sqlite3.connect(\"metroshoes.db\")\n",
    "cursor = conn.cursor()\n",
    "try:\n",
    "    cursor.execute(\"\"\"CREATE TABLE product_details(\n",
    "                    Website varchar(40) not null,\n",
    "                    Product_Link text PRIMARY KEY,\n",
    "                    Product_Name varchar(50) not null,\n",
    "                    Product_Brand varchar(50) not null,\n",
    "                    Product_Category varchar(50),\n",
    "                    Size_Avail varchar(20) not null,\n",
    "                    Price int not null,\n",
    "                    MRP int not null,\n",
    "                    Gender varchar(15) not null,\n",
    "                    Description text not null,\n",
    "                    Primary_Image_Links text not null,\n",
    "                    Secondary_Image_Links text not null,\n",
    "                    Affiliate_Link text\n",
    "                )\"\"\")\n",
    "    conn.commit()\n",
    "except Exception as e:\n",
    "    print(e)\n",
    "    pass"
   ]
  },
  {
   "cell_type": "markdown",
   "metadata": {},
   "source": [
    "# Get product details and save to db directly"
   ]
  },
  {
   "cell_type": "markdown",
   "metadata": {},
   "source": [
    "### Save links to file / extract links from file (to avoid collecting links again in case of notebook crash)"
   ]
  },
  {
   "cell_type": "code",
   "execution_count": null,
   "metadata": {
    "scrolled": true
   },
   "outputs": [],
   "source": [
    "#all_details=[]\n",
    "for i, link in enumerate(all_links[2584:]):\n",
    "    print(i+2584, end=\": \")\n",
    "    data=get_details(link)\n",
    "    add_to_db(data)\n",
    "    #all_details.append(data)\n",
    "    print(link, end=\"\\n\\n\") "
   ]
  },
  {
   "cell_type": "markdown",
   "metadata": {},
   "source": [
    "#  --OR-- get all product details first and then add all to db "
   ]
  },
  {
   "cell_type": "code",
   "execution_count": null,
   "metadata": {},
   "outputs": [],
   "source": [
    "all_details=[]\n",
    "for i, link in enumerate(all_links):\n",
    "    print(i, end=\": \")\n",
    "    data=get_details(link)\n",
    "    #add_to_db(data)\n",
    "    all_details.append(data)\n",
    "    print(link, end=\"\\n\\n\") "
   ]
  },
  {
   "cell_type": "code",
   "execution_count": null,
   "metadata": {},
   "outputs": [],
   "source": [
    "for i, product_detail in enumerate(all_details):\n",
    "    print(i, end=\": \")\n",
    "    #data=get_details(link)\n",
    "    add_to_db(data)\n",
    "    #all_details.append(data)\n",
    "    print(link, end=\"\\n\\n\") "
   ]
  },
  {
   "cell_type": "markdown",
   "metadata": {},
   "source": [
    "# Check if data added in db and close connection"
   ]
  },
  {
   "cell_type": "code",
   "execution_count": null,
   "metadata": {},
   "outputs": [],
   "source": [
    "cursor.execute(\"select Product_Link from product_details\")\n",
    "rows = cursor.fetchall()\n",
    "len(rows)"
   ]
  },
  {
   "cell_type": "code",
   "execution_count": null,
   "metadata": {},
   "outputs": [],
   "source": [
    "conn.close()"
   ]
  }
 ],
 "metadata": {
  "kernelspec": {
   "display_name": "Python 3",
   "language": "python",
   "name": "python3"
  },
  "language_info": {
   "codemirror_mode": {
    "name": "ipython",
    "version": 3
   },
   "file_extension": ".py",
   "mimetype": "text/x-python",
   "name": "python",
   "nbconvert_exporter": "python",
   "pygments_lexer": "ipython3",
   "version": "3.8.5"
  }
 },
 "nbformat": 4,
 "nbformat_minor": 4
}
